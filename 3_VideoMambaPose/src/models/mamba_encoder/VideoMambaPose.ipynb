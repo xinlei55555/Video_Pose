{
 "cells": [
  {
   "cell_type": "code",
   "execution_count": null,
   "metadata": {},
   "outputs": [],
   "source": [
    "import os\n",
    "os.getcwd()"
   ]
  },
  {
   "cell_type": "code",
   "execution_count": null,
   "metadata": {},
   "outputs": [],
   "source": [
    "os.chdir(\"/home/linxin67/projects/def-btaati/linxin67/Projects/MambaPose/Video_Pose/3_VideoMambaPose/src/models/experiments/mamba_encoder\")\n",
    "os.getcwd()"
   ]
  },
  {
   "cell_type": "code",
   "execution_count": null,
   "metadata": {},
   "outputs": [],
   "source": [
    "# !pip list"
   ]
  },
  {
   "cell_type": "code",
   "execution_count": null,
   "metadata": {},
   "outputs": [],
   "source": [
    "import os\n",
    "import torch\n",
    "import torch.nn as nn\n",
    "from functools import partial\n",
    "from torch import Tensor\n",
    "from typing import Optional\n",
    "import torch.utils.checkpoint as checkpoint\n",
    " \n",
    "# remember that this is einstein operation, which is the special fancy way of reshaping.\n",
    "from einops import rearrange\n",
    "from timm.models.vision_transformer import _cfg\n",
    "from timm.models.registry import register_model\n",
    "from timm.models.layers import trunc_normal_\n",
    "\n",
    "from timm.models.layers import DropPath, to_2tuple\n",
    "from timm.models.vision_transformer import _load_weights\n",
    "\n",
    "import math\n",
    "\n",
    "from mamba_ssm.modules.mamba_simple import Mamba"
   ]
  },
  {
   "cell_type": "code",
   "execution_count": null,
   "metadata": {},
   "outputs": [],
   "source": [
    "# generating a random input\n",
    "# (Batch, Channel number, NumFrames, W, H) = (16, 3, 8, 224, 224)\n",
    "\n",
    "# Define the dimensions\n",
    "batch_size = 16\n",
    "num_frames = 8\n",
    "height = 224\n",
    "width = 224\n",
    "channels = 3\n",
    "\n",
    "# Generate a random tensor\n",
    "test_video = torch.rand(batch_size, channels, num_frames, height, width) # I get an error .... 384, 3, 1, 16, 16\n",
    "\n",
    "# Check the shape of the random tensor\n",
    "print(\"Shape of the random tensor:\", random_video.shape)\n"
   ]
  },
  {
   "cell_type": "markdown",
   "metadata": {},
   "source": [
    "#### running the video preprocessing"
   ]
  },
  {
   "cell_type": "markdown",
   "metadata": {},
   "source": [
    "#### running the mamba model"
   ]
  },
  {
   "cell_type": "code",
   "execution_count": null,
   "metadata": {},
   "outputs": [],
   "source": [
    "import VideoMamba as vm"
   ]
  },
  {
   "cell_type": "code",
   "execution_count": null,
   "metadata": {},
   "outputs": [],
   "source": [
    "class PoseDetect(nn.Module):\n",
    "    def __init"
   ]
  },
  {
   "cell_type": "code",
   "execution_count": null,
   "metadata": {},
   "outputs": [],
   "source": [
    "class VideoMambaPose(nn.Module):\n",
    "    def __init__(self):\n",
    "        super().__init__()\n",
    "        self.encoder = vm.videomamba_tiny() # TODO this is temporary \n",
    "        self.pose_detect = \n",
    "    def forward(self, x):\n",
    "        x = self.encoder(x)\n",
    "\n",
    "        # adding my own layer, see how deciwatch did it.\n",
    "        print(x.shape)\n",
    "\n",
    "        x = self.pose_detect(x)\n"
   ]
  },
  {
   "cell_type": "code",
   "execution_count": null,
   "metadata": {},
   "outputs": [],
   "source": [
    "test_model = VideoMambaPose()\n",
    "\n",
    "y = test_model(test_video)"
   ]
  },
  {
   "cell_type": "markdown",
   "metadata": {},
   "source": [
    "### Generating python file, THIS DIRECTLY WRITES THE FILE INSIDE OF THE cedar environment.\n"
   ]
  },
  {
   "cell_type": "code",
   "execution_count": null,
   "metadata": {},
   "outputs": [],
   "source": [
    "!jupyter nbconvert --to script VideoMambaPose.ipynb\n",
    "with open('VideoMambaPose.py', 'r') as f:\n",
    "    lines = f.readlines()\n",
    "with open('VideoMambaPose.py', 'w') as f:\n",
    "    for line in lines:\n",
    "        if 'nbconvert --to script' in line:\n",
    "            break\n",
    "        else:\n",
    "            f.write(line)"
   ]
  },
  {
   "cell_type": "code",
   "execution_count": null,
   "metadata": {},
   "outputs": [],
   "source": [
    "os.getcwd()"
   ]
  }
 ],
 "metadata": {
  "kernelspec": {
   "display_name": "mamba_env2",
   "language": "python",
   "name": "mamba_env2"
  }
 },
 "nbformat": 4,
 "nbformat_minor": 2
}
