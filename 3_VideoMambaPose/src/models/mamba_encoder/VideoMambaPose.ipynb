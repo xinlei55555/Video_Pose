{
 "cells": [
  {
   "cell_type": "code",
   "execution_count": 4,
   "metadata": {},
   "outputs": [
    {
     "data": {
      "text/plain": [
       "'/home/xinleilin/Projects/Video_Pose/3_VideoMambaPose/src/models/experiments/mamba_encoder'"
      ]
     },
     "execution_count": 4,
     "metadata": {},
     "output_type": "execute_result"
    }
   ],
   "source": [
    "import os\n",
    "os.getcwd()"
   ]
  },
  {
   "cell_type": "code",
   "execution_count": 5,
   "metadata": {},
   "outputs": [
    {
     "ename": "FileNotFoundError",
     "evalue": "[Errno 2] No such file or directory: '/home/linxin67/projects/def-btaati/linxin67/Projects/MambaPose/Video_Pose/3_VideoMambaPose/src/models/experiments/mamba_encoder'",
     "output_type": "error",
     "traceback": [
      "\u001b[0;31m---------------------------------------------------------------------------\u001b[0m",
      "\u001b[0;31mFileNotFoundError\u001b[0m                         Traceback (most recent call last)",
      "Cell \u001b[0;32mIn[5], line 1\u001b[0m\n\u001b[0;32m----> 1\u001b[0m \u001b[43mos\u001b[49m\u001b[38;5;241;43m.\u001b[39;49m\u001b[43mchdir\u001b[49m\u001b[43m(\u001b[49m\u001b[38;5;124;43m\"\u001b[39;49m\u001b[38;5;124;43m/home/linxin67/projects/def-btaati/linxin67/Projects/MambaPose/Video_Pose/3_VideoMambaPose/src/models/experiments/mamba_encoder\u001b[39;49m\u001b[38;5;124;43m\"\u001b[39;49m\u001b[43m)\u001b[49m\n\u001b[1;32m      2\u001b[0m os\u001b[38;5;241m.\u001b[39mgetcwd()\n",
      "\u001b[0;31mFileNotFoundError\u001b[0m: [Errno 2] No such file or directory: '/home/linxin67/projects/def-btaati/linxin67/Projects/MambaPose/Video_Pose/3_VideoMambaPose/src/models/experiments/mamba_encoder'"
     ]
    }
   ],
   "source": [
    "os.chdir(\"/home/linxin67/projects/def-btaati/linxin67/Projects/MambaPose/Video_Pose/3_VideoMambaPose/src/models/experiments/mamba_encoder\")\n",
    "os.getcwd()"
   ]
  },
  {
   "cell_type": "code",
   "execution_count": null,
   "metadata": {},
   "outputs": [
    {
     "name": "stdout",
     "output_type": "stream",
     "text": [
      "Package                  Version\n",
      "------------------------ ----------\n",
      "asttokens                2.4.1\n",
      "certifi                  2024.2.2\n",
      "charset-normalizer       3.3.2\n",
      "comm                     0.2.2\n",
      "debugpy                  1.6.7\n",
      "decorator                5.1.1\n",
      "exceptiongroup           1.2.0\n",
      "executing                2.0.1\n",
      "filelock                 3.14.0\n",
      "fsspec                   2024.3.1\n",
      "idna                     3.7\n",
      "importlib_metadata       7.1.0\n",
      "ipykernel                6.29.3\n",
      "ipython                  8.22.2\n",
      "jedi                     0.19.1\n",
      "Jinja2                   3.1.4\n",
      "jupyter_client           8.6.1\n",
      "jupyter_core             5.7.2\n",
      "MarkupSafe               2.1.5\n",
      "matplotlib-inline        0.1.7\n",
      "mpmath                   1.3.0\n",
      "nest_asyncio             1.6.0\n",
      "networkx                 3.3\n",
      "numpy                    1.26.4\n",
      "nvidia-cublas-cu12       12.1.3.1\n",
      "nvidia-cuda-cupti-cu12   12.1.105\n",
      "nvidia-cuda-nvrtc-cu12   12.1.105\n",
      "nvidia-cuda-runtime-cu12 12.1.105\n",
      "nvidia-cudnn-cu12        8.9.2.26\n",
      "nvidia-cufft-cu12        11.0.2.54\n",
      "nvidia-curand-cu12       10.3.2.106\n",
      "nvidia-cusolver-cu12     11.4.5.107\n",
      "nvidia-cusparse-cu12     12.1.0.106\n",
      "nvidia-nccl-cu12         2.18.1\n",
      "nvidia-nvjitlink-cu12    12.4.127\n",
      "nvidia-nvtx-cu12         12.1.105\n",
      "packaging                24.0\n",
      "parso                    0.8.4\n",
      "pexpect                  4.9.0\n",
      "pickleshare              0.7.5\n",
      "pillow                   10.3.0\n",
      "pip                      24.0\n",
      "platformdirs             4.2.1\n",
      "prompt-toolkit           3.0.42\n",
      "psutil                   5.9.8\n",
      "ptyprocess               0.7.0\n",
      "pure-eval                0.2.2\n",
      "Pygments                 2.18.0\n",
      "python-dateutil          2.9.0\n",
      "pyzmq                    25.1.2\n",
      "requests                 2.31.0\n",
      "setuptools               69.5.1\n",
      "six                      1.16.0\n",
      "stack-data               0.6.2\n",
      "sympy                    1.12\n",
      "torch                    2.1.1\n",
      "torchaudio               2.1.1\n",
      "torchvision              0.16.1\n",
      "tornado                  6.4\n",
      "traitlets                5.14.3\n",
      "triton                   2.1.0\n",
      "typing_extensions        4.11.0\n",
      "urllib3                  2.2.1\n",
      "wcwidth                  0.2.13\n",
      "wheel                    0.43.0\n",
      "zipp                     3.17.0\n"
     ]
    }
   ],
   "source": [
    "!pip list"
   ]
  },
  {
   "cell_type": "code",
   "execution_count": 1,
   "metadata": {},
   "outputs": [
    {
     "name": "stderr",
     "output_type": "stream",
     "text": [
      "/home/xinleilin/Programs/miniconda3/envs/mamba/lib/python3.10/site-packages/tqdm/auto.py:21: TqdmWarning: IProgress not found. Please update jupyter and ipywidgets. See https://ipywidgets.readthedocs.io/en/stable/user_install.html\n",
      "  from .autonotebook import tqdm as notebook_tqdm\n"
     ]
    }
   ],
   "source": [
    "import os\n",
    "import torch\n",
    "import torch.nn as nn\n",
    "from functools import partial\n",
    "from torch import Tensor\n",
    "from typing import Optional\n",
    "import torch.utils.checkpoint as checkpoint\n",
    " \n",
    "# remember that this is einstein operation, which is the special fancy way of reshaping.\n",
    "from einops import rearrange\n",
    "from timm.models.vision_transformer import _cfg\n",
    "from timm.models.registry import register_model\n",
    "from timm.models.layers import trunc_normal_\n",
    "\n",
    "from timm.models.layers import DropPath, to_2tuple\n",
    "from timm.models.vision_transformer import _load_weights\n",
    "\n",
    "import math\n",
    "\n",
    "from mamba_ssm.modules.mamba_simple import Mamba\n",
    "\n"
   ]
  },
  {
   "cell_type": "code",
   "execution_count": 10,
   "metadata": {},
   "outputs": [],
   "source": [
    "# making sure the data and models are on the GPU\n",
    "device = 'cuda' if torch.cuda.is_available() else 'cpu'\n",
    "# model.to(device)\n",
    "# data = data.to(device)"
   ]
  },
  {
   "cell_type": "code",
   "execution_count": 3,
   "metadata": {},
   "outputs": [
    {
     "name": "stdout",
     "output_type": "stream",
     "text": [
      "Shape of the random tensor: torch.Size([16, 3, 8, 224, 224])\n"
     ]
    }
   ],
   "source": [
    "# generating a random input\n",
    "# (Batch, Channel number, NumFrames, W, H) = (16, 3, 8, 224, 224)\n",
    "\n",
    "# Define the dimensions\n",
    "batch_size = 16\n",
    "num_frames = 8\n",
    "height = 224\n",
    "width = 224\n",
    "channels = 3\n",
    "\n",
    "# Generate a random tensor\n",
    "test_video = torch.rand(batch_size, channels, num_frames, height, width) # I get an error .... 384, 3, 1, 16, 16\n",
    "\n",
    "# Check the shape of the random tensor\n",
    "print(\"Shape of the random tensor:\", test_video.shape)\n"
   ]
  },
  {
   "cell_type": "markdown",
   "metadata": {},
   "source": [
    "#### running the video preprocessing"
   ]
  },
  {
   "cell_type": "markdown",
   "metadata": {},
   "source": [
    "#### running the mamba model"
   ]
  },
  {
   "cell_type": "code",
   "execution_count": 4,
   "metadata": {},
   "outputs": [],
   "source": [
    "import VideoMamba as vm"
   ]
  },
  {
   "cell_type": "code",
   "execution_count": 7,
   "metadata": {},
   "outputs": [],
   "source": [
    "class VideoMambaPose(nn.Module):\n",
    "    def __init__(self):\n",
    "        super().__init__()\n",
    "        self.encoder = vm.videomamba_tiny() # TODO this is temporary \n",
    "\n",
    "    def forward(self, x):\n",
    "        x = self.encoder(x)\n",
    "\n",
    "        # adding my own layer, see how deciwatch did it.\n",
    "        print(x.shape)\n",
    "        return x\n"
   ]
  },
  {
   "cell_type": "code",
   "execution_count": 13,
   "metadata": {},
   "outputs": [
    {
     "name": "stdout",
     "output_type": "stream",
     "text": [
      "Use checkpoint: False\n",
      "Checkpoint number: 0\n",
      "torch.Size([16, 1000])\n"
     ]
    }
   ],
   "source": [
    "test_model = VideoMambaPose()\n",
    "\n",
    "# move the data to the GPU\n",
    "test_model = test_model.to(device)\n",
    "test_video = test_video.to(device)\n",
    "\n",
    "y = test_model(test_video)"
   ]
  },
  {
   "cell_type": "code",
   "execution_count": 19,
   "metadata": {},
   "outputs": [
    {
     "name": "stdout",
     "output_type": "stream",
     "text": [
      "torch.Size([16, 3, 8, 224, 224])\n",
      "torch.Size([16, 1000])\n"
     ]
    }
   ],
   "source": [
    "print(test_video.shape)\n",
    "print(y.shape)"
   ]
  },
  {
   "cell_type": "code",
   "execution_count": 20,
   "metadata": {},
   "outputs": [
    {
     "name": "stdout",
     "output_type": "stream",
     "text": [
      "torch.Size([16, 3, 8, 224, 224])\n",
      "tensor([[ 0.1279, -0.1972, -0.1612,  ...,  0.1439, -0.1173, -0.0576],\n",
      "        [ 0.1994, -0.1820, -0.1468,  ...,  0.1977, -0.1237, -0.0726],\n",
      "        [ 0.0778, -0.2031, -0.1393,  ...,  0.1464, -0.1695, -0.0824],\n",
      "        ...,\n",
      "        [ 0.1622, -0.1686, -0.1834,  ...,  0.2373, -0.1223, -0.1131],\n",
      "        [ 0.1416, -0.1255, -0.1491,  ...,  0.1790, -0.1694, -0.1100],\n",
      "        [ 0.2059, -0.0588, -0.1596,  ...,  0.2217, -0.0993, -0.0010]],\n",
      "       device='cuda:0', grad_fn=<AddmmBackward0>)\n"
     ]
    }
   ],
   "source": [
    "\n",
    "\n",
    "print(test_video.shape)\n",
    "\n",
    "print(y)\n",
    "\n"
   ]
  },
  {
   "cell_type": "code",
   "execution_count": null,
   "metadata": {},
   "outputs": [],
   "source": []
  }
 ],
 "metadata": {
  "kernelspec": {
   "display_name": "mamba",
   "language": "python",
   "name": "python3"
  },
  "language_info": {
   "codemirror_mode": {
    "name": "ipython",
    "version": 3
   },
   "file_extension": ".py",
   "mimetype": "text/x-python",
   "name": "python",
   "nbconvert_exporter": "python",
   "pygments_lexer": "ipython3",
   "version": "3.10.14"
  }
 },
 "nbformat": 4,
 "nbformat_minor": 2
}
